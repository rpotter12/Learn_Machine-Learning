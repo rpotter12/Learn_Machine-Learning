{
  "nbformat": 4,
  "nbformat_minor": 0,
  "metadata": {
    "colab": {
      "name": "k_means.ipynb",
      "provenance": [],
      "collapsed_sections": []
    },
    "kernelspec": {
      "name": "python3",
      "display_name": "Python 3"
    }
  },
  "cells": [
    {
      "cell_type": "code",
      "metadata": {
        "id": "wZBYEHY_IuRL",
        "colab_type": "code",
        "colab": {}
      },
      "source": [
        "import matplotlib.pyplot as plt\n",
        "import seaborn as sns; sns.set()\n",
        "import numpy as np"
      ],
      "execution_count": 0,
      "outputs": []
    },
    {
      "cell_type": "code",
      "metadata": {
        "id": "-hM1fIzkIy--",
        "colab_type": "code",
        "colab": {
          "base_uri": "https://localhost:8080/",
          "height": 268
        },
        "outputId": "f9fa4c03-f330-47d1-e31f-0cc83f922100"
      },
      "source": [
        "from sklearn.datasets.samples_generator import make_blobs\n",
        "X, y_true = make_blobs(n_samples=300, centers=4, cluster_std=0.60)\n",
        "plt.scatter(X[:, 0], X[:, 1], s=50);"
      ],
      "execution_count": 6,
      "outputs": [
        {
          "output_type": "display_data",
          "data": {
            "image/png": "[encoded data removed]",
            "text/plain": [
              "<Figure size 432x288 with 1 Axes>"
            ]
          },
          "metadata": {
            "tags": []
          }
        }
      ]
    },
    {
      "cell_type": "code",
      "metadata": {
        "id": "0XU_mVH1I5DQ",
        "colab_type": "code",
        "colab": {}
      },
      "source": [
        "from sklearn.cluster import KMeans\n",
        "kmeans = KMeans(n_clusters=4)\n",
        "kmeans.fit(X)\n",
        "y_kmeans = kmeans.predict(X)"
      ],
      "execution_count": 0,
      "outputs": []
    },
    {
      "cell_type": "code",
      "metadata": {
        "id": "8yOqkczYJyzG",
        "colab_type": "code",
        "colab": {
          "base_uri": "https://localhost:8080/",
          "height": 255
        },
        "outputId": "b75fd066-9b14-4237-c9ba-ae1207c02155"
      },
      "source": [
        "y_kmeans"
      ],
      "execution_count": 8,
      "outputs": [
        {
          "output_type": "execute_result",
          "data": {
            "text/plain": [
              "array([1, 0, 3, 2, 3, 2, 1, 2, 0, 1, 1, 1, 1, 1, 0, 3, 3, 2, 0, 3, 2, 1,\n",
              "       1, 1, 0, 2, 3, 0, 0, 3, 2, 3, 3, 2, 2, 1, 0, 1, 0, 3, 1, 3, 0, 1,\n",
              "       1, 3, 1, 0, 2, 1, 1, 0, 1, 1, 1, 3, 3, 3, 3, 1, 0, 3, 0, 1, 0, 0,\n",
              "       2, 3, 3, 0, 0, 2, 2, 3, 3, 2, 3, 2, 2, 0, 1, 2, 3, 0, 0, 0, 2, 1,\n",
              "       3, 1, 0, 1, 2, 2, 1, 1, 1, 0, 0, 3, 1, 0, 3, 2, 0, 3, 1, 2, 1, 3,\n",
              "       2, 0, 3, 0, 0, 2, 3, 1, 0, 0, 0, 1, 0, 3, 2, 0, 2, 3, 1, 2, 3, 3,\n",
              "       1, 0, 2, 2, 3, 0, 2, 2, 0, 3, 3, 3, 0, 0, 3, 1, 1, 2, 1, 1, 0, 0,\n",
              "       3, 2, 2, 0, 2, 0, 3, 1, 1, 2, 1, 2, 0, 0, 2, 1, 2, 2, 1, 1, 3, 0,\n",
              "       3, 2, 3, 2, 3, 2, 3, 1, 0, 1, 3, 3, 1, 3, 0, 1, 1, 2, 0, 2, 2, 0,\n",
              "       3, 1, 2, 1, 0, 0, 3, 0, 2, 2, 2, 2, 0, 0, 1, 0, 2, 0, 3, 1, 1, 1,\n",
              "       1, 2, 3, 0, 2, 0, 2, 3, 3, 1, 1, 2, 1, 0, 0, 2, 2, 0, 3, 2, 3, 3,\n",
              "       1, 3, 2, 1, 0, 3, 3, 2, 0, 2, 1, 2, 2, 0, 2, 2, 1, 3, 0, 3, 3, 0,\n",
              "       0, 0, 2, 2, 0, 2, 3, 2, 1, 0, 1, 3, 1, 1, 1, 3, 3, 3, 0, 3, 3, 3,\n",
              "       1, 0, 2, 2, 2, 1, 1, 0, 3, 3, 1, 2, 3, 2], dtype=int32)"
            ]
          },
          "metadata": {
            "tags": []
          },
          "execution_count": 8
        }
      ]
    },
    {
      "cell_type": "code",
      "metadata": {
        "id": "MnLPXSDYJ2A6",
        "colab_type": "code",
        "colab": {}
      },
      "source": [
        ""
      ],
      "execution_count": 0,
      "outputs": []
    }
  ]
}